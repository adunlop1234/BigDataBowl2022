{
 "cells": [
  {
   "cell_type": "code",
   "execution_count": 2,
   "metadata": {},
   "outputs": [],
   "source": [
    "# Import modules\n",
    "import os, sys\n",
    "import pandas as pd\n",
    "import numpy as np\n",
    "import matplotlib.pyplot as plt"
   ]
  },
  {
   "cell_type": "code",
   "execution_count": 3,
   "metadata": {},
   "outputs": [],
   "source": [
    "# Read in the plays and get a unique ID\n",
    "plays = pd.read_csv(os.path.join('data', 'plays.csv'))\n",
    "plays[\"uniqueId\"] = (plays[\"gameId\"].astype(str) + \"-\" + plays[\"playId\"].astype(str)).astype(str)\n",
    "\n",
    "kickoffs = plays.loc[plays.specialTeamsPlayType == \"Kickoff\", :]\n",
    "punts = plays.loc[plays.specialTeamsPlayType == \"Punt\", :]"
   ]
  },
  {
   "cell_type": "code",
   "execution_count": 4,
   "metadata": {},
   "outputs": [
    {
     "data": {
      "text/plain": [
       "Return                      2286\n",
       "Fair Catch                  1640\n",
       "Downed                       829\n",
       "Out of Bounds                586\n",
       "Touchback                    383\n",
       "Muffed                       154\n",
       "Non-Special Teams Result      74\n",
       "Blocked Punt                  39\n",
       "Name: specialTeamsResult, dtype: int64"
      ]
     },
     "execution_count": 4,
     "metadata": {},
     "output_type": "execute_result"
    }
   ],
   "source": [
    "punts.specialTeamsResult.value_counts()"
   ]
  },
  {
   "cell_type": "code",
   "execution_count": 5,
   "metadata": {},
   "outputs": [],
   "source": [
    "# Drop the plays that aren't applicable to returns - Blocked Punt, Non-Special Teams Result\n",
    "# Do we want to keep muffed, touchback and out of bounds?\n",
    "punt_results_to_drop = ['Blocked Punt', 'Non-Special Teams Result', 'Muffed', 'Out of Bounds']\n",
    "punts = punts[punts.specialTeamsResult.str.contains(\"|\".join(punt_results_to_drop))==False]"
   ]
  },
  {
   "cell_type": "code",
   "execution_count": 6,
   "metadata": {},
   "outputs": [],
   "source": [
    "# Write list of all of the punt plays to be used\n",
    "punts.uniqueId.to_csv('eligible_punt_plays.csv', index=False, header=False)"
   ]
  },
  {
   "cell_type": "code",
   "execution_count": 7,
   "metadata": {},
   "outputs": [
    {
     "data": {
      "text/plain": [
       "Touchback                4773\n",
       "Return                   2921\n",
       "Out of Bounds              64\n",
       "Muffed                     60\n",
       "Kickoff Team Recovery      16\n",
       "Fair Catch                  5\n",
       "Downed                      4\n",
       "Name: specialTeamsResult, dtype: int64"
      ]
     },
     "execution_count": 7,
     "metadata": {},
     "output_type": "execute_result"
    }
   ],
   "source": [
    "kickoffs.specialTeamsResult.value_counts()"
   ]
  },
  {
   "cell_type": "code",
   "execution_count": 8,
   "metadata": {},
   "outputs": [],
   "source": [
    "# Drop the plays that aren't applicable to kickoff returns too small sample size - Downed, Fair Catch, Kickoff Team Recovery, Muffed, Out of Bounds\n",
    "kickoff_results_to_drop = ['Out of Bounds', 'Muffed', 'Kickoff Team Recovery', 'Fair Catch', 'Downed']\n",
    "kickoffs = kickoffs[kickoffs.specialTeamsResult.str.contains(\"|\".join(kickoff_results_to_drop))==False]"
   ]
  },
  {
   "cell_type": "code",
   "execution_count": 9,
   "metadata": {},
   "outputs": [],
   "source": [
    "# Write list of all of the kickoff plays to be used\n",
    "kickoffs.uniqueId.to_csv('eligible_kickoff_plays.csv', index=False, header=False)"
   ]
  },
  {
   "cell_type": "code",
   "execution_count": 10,
   "metadata": {},
   "outputs": [],
   "source": [
    "tracking2018 = pd.read_csv(os.path.join('data', 'tracking2018.csv'))"
   ]
  },
  {
   "cell_type": "code",
   "execution_count": 14,
   "metadata": {},
   "outputs": [
    {
     "data": {
      "text/plain": [
       "Index(['time', 'x', 'y', 's', 'a', 'dis', 'o', 'dir', 'event', 'nflId',\n",
       "       'displayName', 'jerseyNumber', 'position', 'team', 'frameId', 'gameId',\n",
       "       'playId', 'playDirection'],\n",
       "      dtype='object')"
      ]
     },
     "execution_count": 14,
     "metadata": {},
     "output_type": "execute_result"
    }
   ],
   "source": [
    "tracking2018.columns"
   ]
  },
  {
   "cell_type": "code",
   "execution_count": null,
   "metadata": {},
   "outputs": [],
   "source": []
  }
 ],
 "metadata": {
  "interpreter": {
   "hash": "4cd7ab41f5fca4b9b44701077e38c5ffd31fe66a6cab21e0214b68d958d0e462"
  },
  "kernelspec": {
   "display_name": "Python 3 (ipykernel)",
   "language": "python",
   "name": "python3"
  },
  "language_info": {
   "codemirror_mode": {
    "name": "ipython",
    "version": 3
   },
   "file_extension": ".py",
   "mimetype": "text/x-python",
   "name": "python",
   "nbconvert_exporter": "python",
   "pygments_lexer": "ipython3",
   "version": "3.9.7"
  }
 },
 "nbformat": 4,
 "nbformat_minor": 2
}
