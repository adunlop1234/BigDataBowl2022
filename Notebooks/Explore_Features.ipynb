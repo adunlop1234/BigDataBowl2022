{
 "cells": [
  {
   "cell_type": "code",
   "execution_count": 6,
   "id": "weighted-purse",
   "metadata": {},
   "outputs": [],
   "source": [
    "import pandas as pd\n",
    "import numpy as np\n",
    "import matplotlib.pyplot as plt\n",
    "import pickle\n",
    "import os, sys"
   ]
  },
  {
   "cell_type": "code",
   "execution_count": 4,
   "id": "ca44888e",
   "metadata": {},
   "outputs": [],
   "source": [
    "with open(os.path.join(\"..\", \"processedData\", \"features.pickle\"), 'rb') as f:\n",
    "    features = pickle.load(f)"
   ]
  },
  {
   "cell_type": "code",
   "execution_count": 5,
   "id": "c5f2f2a3",
   "metadata": {},
   "outputs": [],
   "source": [
    "y = []\n",
    "X = []\n",
    "for keys in features.keys():\n",
    "    y.append(features[keys][2])\n",
    "    X.append((features[keys][0], features[keys][1]))"
   ]
  },
  {
   "cell_type": "code",
   "execution_count": 7,
   "id": "d20de609",
   "metadata": {},
   "outputs": [],
   "source": [
    "X = np.array(X)\n",
    "y = np.array(y)"
   ]
  },
  {
   "cell_type": "code",
   "execution_count": 8,
   "id": "0e1c4525",
   "metadata": {},
   "outputs": [
    {
     "data": {
      "text/plain": [
       "2741"
      ]
     },
     "execution_count": 8,
     "metadata": {},
     "output_type": "execute_result"
    }
   ],
   "source": [
    "y.sum()"
   ]
  },
  {
   "cell_type": "code",
   "execution_count": 10,
   "id": "d7e9f335",
   "metadata": {},
   "outputs": [
    {
     "data": {
      "text/plain": [
       "0.3680676782597019"
      ]
     },
     "execution_count": 10,
     "metadata": {},
     "output_type": "execute_result"
    }
   ],
   "source": [
    "y.sum()/y.shape[0]"
   ]
  },
  {
   "cell_type": "code",
   "execution_count": 11,
   "id": "5bc7315a",
   "metadata": {},
   "outputs": [],
   "source": [
    "play_df = pd.read_csv(\"../data/plays.csv\")"
   ]
  },
  {
   "cell_type": "code",
   "execution_count": 16,
   "id": "77319381",
   "metadata": {},
   "outputs": [
    {
     "data": {
      "text/plain": [
       "<AxesSubplot:>"
      ]
     },
     "execution_count": 16,
     "metadata": {},
     "output_type": "execute_result"
    },
    {
     "data": {
      "image/png": "[encoded data removed]",
      "text/plain": [
       "<Figure size 432x288 with 1 Axes>"
      ]
     },
     "metadata": {
      "needs_background": "light"
     },
     "output_type": "display_data"
    }
   ],
   "source": [
    "play_df.loc[:, [\"kickReturnYardage\", \"playResult\", \"absoluteYardlineNumber\"]]\n",
    "play_df.playResult.hist(bins=100)"
   ]
  },
  {
   "cell_type": "code",
   "execution_count": 32,
   "id": "e92aa55e",
   "metadata": {},
   "outputs": [],
   "source": [
    "kickoff_plays = play_df.loc[play_df.specialTeamsPlayType==\"Kickoff\", [\"kickReturnYardage\", \"playResult\", \"specialTeamsResult\", \"absoluteYardlineNumber\", \"kickLength\", \"gameId\", \"playId\"]]"
   ]
  },
  {
   "cell_type": "code",
   "execution_count": 33,
   "id": "fbf10e5f",
   "metadata": {},
   "outputs": [
    {
     "data": {
      "text/html": [
       "<div>\n",
       "<style scoped>\n",
       "    .dataframe tbody tr th:only-of-type {\n",
       "        vertical-align: middle;\n",
       "    }\n",
       "\n",
       "    .dataframe tbody tr th {\n",
       "        vertical-align: top;\n",
       "    }\n",
       "\n",
       "    .dataframe thead th {\n",
       "        text-align: right;\n",
       "    }\n",
       "</style>\n",
       "<table border=\"1\" class=\"dataframe\">\n",
       "  <thead>\n",
       "    <tr style=\"text-align: right;\">\n",
       "      <th></th>\n",
       "      <th>kickReturnYardage</th>\n",
       "      <th>playResult</th>\n",
       "      <th>specialTeamsResult</th>\n",
       "      <th>absoluteYardlineNumber</th>\n",
       "      <th>kickLength</th>\n",
       "      <th>gameId</th>\n",
       "      <th>playId</th>\n",
       "    </tr>\n",
       "  </thead>\n",
       "  <tbody>\n",
       "    <tr>\n",
       "      <th>3</th>\n",
       "      <td>30.0</td>\n",
       "      <td>34</td>\n",
       "      <td>Return</td>\n",
       "      <td>75</td>\n",
       "      <td>64.0</td>\n",
       "      <td>2018090600</td>\n",
       "      <td>677</td>\n",
       "    </tr>\n",
       "    <tr>\n",
       "      <th>9</th>\n",
       "      <td>13.0</td>\n",
       "      <td>60</td>\n",
       "      <td>Return</td>\n",
       "      <td>45</td>\n",
       "      <td>68.0</td>\n",
       "      <td>2018090600</td>\n",
       "      <td>1606</td>\n",
       "    </tr>\n",
       "    <tr>\n",
       "      <th>24</th>\n",
       "      <td>24.0</td>\n",
       "      <td>45</td>\n",
       "      <td>Return</td>\n",
       "      <td>75</td>\n",
       "      <td>69.0</td>\n",
       "      <td>2018090900</td>\n",
       "      <td>36</td>\n",
       "    </tr>\n",
       "    <tr>\n",
       "      <th>26</th>\n",
       "      <td>28.0</td>\n",
       "      <td>33</td>\n",
       "      <td>Return</td>\n",
       "      <td>45</td>\n",
       "      <td>61.0</td>\n",
       "      <td>2018090900</td>\n",
       "      <td>400</td>\n",
       "    </tr>\n",
       "    <tr>\n",
       "      <th>39</th>\n",
       "      <td>25.0</td>\n",
       "      <td>40</td>\n",
       "      <td>Return</td>\n",
       "      <td>75</td>\n",
       "      <td>65.0</td>\n",
       "      <td>2018090900</td>\n",
       "      <td>1992</td>\n",
       "    </tr>\n",
       "    <tr>\n",
       "      <th>...</th>\n",
       "      <td>...</td>\n",
       "      <td>...</td>\n",
       "      <td>...</td>\n",
       "      <td>...</td>\n",
       "      <td>...</td>\n",
       "      <td>...</td>\n",
       "      <td>...</td>\n",
       "    </tr>\n",
       "    <tr>\n",
       "      <th>19936</th>\n",
       "      <td>28.0</td>\n",
       "      <td>36</td>\n",
       "      <td>Return</td>\n",
       "      <td>75</td>\n",
       "      <td>64.0</td>\n",
       "      <td>2021010314</td>\n",
       "      <td>2040</td>\n",
       "    </tr>\n",
       "    <tr>\n",
       "      <th>19937</th>\n",
       "      <td>23.0</td>\n",
       "      <td>40</td>\n",
       "      <td>Return</td>\n",
       "      <td>75</td>\n",
       "      <td>63.0</td>\n",
       "      <td>2021010314</td>\n",
       "      <td>2102</td>\n",
       "    </tr>\n",
       "    <tr>\n",
       "      <th>19961</th>\n",
       "      <td>11.0</td>\n",
       "      <td>47</td>\n",
       "      <td>Return</td>\n",
       "      <td>45</td>\n",
       "      <td>58.0</td>\n",
       "      <td>2021010315</td>\n",
       "      <td>1879</td>\n",
       "    </tr>\n",
       "    <tr>\n",
       "      <th>19971</th>\n",
       "      <td>18.0</td>\n",
       "      <td>45</td>\n",
       "      <td>Return</td>\n",
       "      <td>75</td>\n",
       "      <td>63.0</td>\n",
       "      <td>2021010315</td>\n",
       "      <td>3105</td>\n",
       "    </tr>\n",
       "    <tr>\n",
       "      <th>19978</th>\n",
       "      <td>0.0</td>\n",
       "      <td>9</td>\n",
       "      <td>Return</td>\n",
       "      <td>45</td>\n",
       "      <td>9.0</td>\n",
       "      <td>2021010315</td>\n",
       "      <td>4182</td>\n",
       "    </tr>\n",
       "  </tbody>\n",
       "</table>\n",
       "<p>2921 rows × 7 columns</p>\n",
       "</div>"
      ],
      "text/plain": [
       "       kickReturnYardage  playResult specialTeamsResult  \\\n",
       "3                   30.0          34             Return   \n",
       "9                   13.0          60             Return   \n",
       "24                  24.0          45             Return   \n",
       "26                  28.0          33             Return   \n",
       "39                  25.0          40             Return   \n",
       "...                  ...         ...                ...   \n",
       "19936               28.0          36             Return   \n",
       "19937               23.0          40             Return   \n",
       "19961               11.0          47             Return   \n",
       "19971               18.0          45             Return   \n",
       "19978                0.0           9             Return   \n",
       "\n",
       "       absoluteYardlineNumber  kickLength      gameId  playId  \n",
       "3                          75        64.0  2018090600     677  \n",
       "9                          45        68.0  2018090600    1606  \n",
       "24                         75        69.0  2018090900      36  \n",
       "26                         45        61.0  2018090900     400  \n",
       "39                         75        65.0  2018090900    1992  \n",
       "...                       ...         ...         ...     ...  \n",
       "19936                      75        64.0  2021010314    2040  \n",
       "19937                      75        63.0  2021010314    2102  \n",
       "19961                      45        58.0  2021010315    1879  \n",
       "19971                      75        63.0  2021010315    3105  \n",
       "19978                      45         9.0  2021010315    4182  \n",
       "\n",
       "[2921 rows x 7 columns]"
      ]
     },
     "execution_count": 33,
     "metadata": {},
     "output_type": "execute_result"
    }
   ],
   "source": [
    "kickoff_plays[\"\"]\n",
    "kickoff_plays.loc[kickoff_plays.specialTeamsResult==\"Return\", :]"
   ]
  },
  {
   "cell_type": "code",
   "execution_count": null,
   "id": "6a602353",
   "metadata": {},
   "outputs": [],
   "source": []
  }
 ],
 "metadata": {
  "kernelspec": {
   "display_name": "Python 3 (ipykernel)",
   "language": "python",
   "name": "python3"
  },
  "language_info": {
   "codemirror_mode": {
    "name": "ipython",
    "version": 3
   },
   "file_extension": ".py",
   "mimetype": "text/x-python",
   "name": "python",
   "nbconvert_exporter": "python",
   "pygments_lexer": "ipython3",
   "version": "3.8.6"
  }
 },
 "nbformat": 4,
 "nbformat_minor": 5
}
