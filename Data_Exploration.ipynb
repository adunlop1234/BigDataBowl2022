{
 "cells": [
  {
   "cell_type": "code",
   "execution_count": 55,
   "id": "extended-prairie",
   "metadata": {},
   "outputs": [],
   "source": [
    "import pandas as pd\n",
    "import numpy\n",
    "import matplotlib.pyplot as plt"
   ]
  },
  {
   "cell_type": "code",
   "execution_count": 4,
   "id": "manual-combining",
   "metadata": {},
   "outputs": [],
   "source": [
    "# Look at the games.csv data file\n",
    "games = pd.read_csv('data/games.csv')"
   ]
  },
  {
   "cell_type": "code",
   "execution_count": 6,
   "id": "caroline-president",
   "metadata": {},
   "outputs": [
    {
     "data": {
      "text/html": [
       "<div>\n",
       "<style scoped>\n",
       "    .dataframe tbody tr th:only-of-type {\n",
       "        vertical-align: middle;\n",
       "    }\n",
       "\n",
       "    .dataframe tbody tr th {\n",
       "        vertical-align: top;\n",
       "    }\n",
       "\n",
       "    .dataframe thead th {\n",
       "        text-align: right;\n",
       "    }\n",
       "</style>\n",
       "<table border=\"1\" class=\"dataframe\">\n",
       "  <thead>\n",
       "    <tr style=\"text-align: right;\">\n",
       "      <th></th>\n",
       "      <th>gameId</th>\n",
       "      <th>season</th>\n",
       "      <th>week</th>\n",
       "      <th>gameDate</th>\n",
       "      <th>gameTimeEastern</th>\n",
       "      <th>homeTeamAbbr</th>\n",
       "      <th>visitorTeamAbbr</th>\n",
       "    </tr>\n",
       "  </thead>\n",
       "  <tbody>\n",
       "    <tr>\n",
       "      <th>0</th>\n",
       "      <td>2018090600</td>\n",
       "      <td>2018</td>\n",
       "      <td>1</td>\n",
       "      <td>09/06/2018</td>\n",
       "      <td>20:20:00</td>\n",
       "      <td>PHI</td>\n",
       "      <td>ATL</td>\n",
       "    </tr>\n",
       "    <tr>\n",
       "      <th>1</th>\n",
       "      <td>2018090900</td>\n",
       "      <td>2018</td>\n",
       "      <td>1</td>\n",
       "      <td>09/09/2018</td>\n",
       "      <td>13:00:00</td>\n",
       "      <td>BAL</td>\n",
       "      <td>BUF</td>\n",
       "    </tr>\n",
       "    <tr>\n",
       "      <th>2</th>\n",
       "      <td>2018090901</td>\n",
       "      <td>2018</td>\n",
       "      <td>1</td>\n",
       "      <td>09/09/2018</td>\n",
       "      <td>13:00:00</td>\n",
       "      <td>CLE</td>\n",
       "      <td>PIT</td>\n",
       "    </tr>\n",
       "    <tr>\n",
       "      <th>3</th>\n",
       "      <td>2018090902</td>\n",
       "      <td>2018</td>\n",
       "      <td>1</td>\n",
       "      <td>09/09/2018</td>\n",
       "      <td>13:00:00</td>\n",
       "      <td>IND</td>\n",
       "      <td>CIN</td>\n",
       "    </tr>\n",
       "    <tr>\n",
       "      <th>4</th>\n",
       "      <td>2018090903</td>\n",
       "      <td>2018</td>\n",
       "      <td>1</td>\n",
       "      <td>09/09/2018</td>\n",
       "      <td>13:00:00</td>\n",
       "      <td>MIA</td>\n",
       "      <td>TEN</td>\n",
       "    </tr>\n",
       "  </tbody>\n",
       "</table>\n",
       "</div>"
      ],
      "text/plain": [
       "       gameId  season  week    gameDate gameTimeEastern homeTeamAbbr  \\\n",
       "0  2018090600    2018     1  09/06/2018        20:20:00          PHI   \n",
       "1  2018090900    2018     1  09/09/2018        13:00:00          BAL   \n",
       "2  2018090901    2018     1  09/09/2018        13:00:00          CLE   \n",
       "3  2018090902    2018     1  09/09/2018        13:00:00          IND   \n",
       "4  2018090903    2018     1  09/09/2018        13:00:00          MIA   \n",
       "\n",
       "  visitorTeamAbbr  \n",
       "0             ATL  \n",
       "1             BUF  \n",
       "2             PIT  \n",
       "3             CIN  \n",
       "4             TEN  "
      ]
     },
     "execution_count": 6,
     "metadata": {},
     "output_type": "execute_result"
    }
   ],
   "source": [
    "games.head()"
   ]
  },
  {
   "cell_type": "code",
   "execution_count": 8,
   "id": "healthy-entrepreneur",
   "metadata": {},
   "outputs": [
    {
     "data": {
      "text/plain": [
       "Index(['gameId', 'season', 'week', 'gameDate', 'gameTimeEastern',\n",
       "       'homeTeamAbbr', 'visitorTeamAbbr'],\n",
       "      dtype='object')"
      ]
     },
     "execution_count": 8,
     "metadata": {},
     "output_type": "execute_result"
    }
   ],
   "source": [
    "games.columns"
   ]
  },
  {
   "cell_type": "code",
   "execution_count": 9,
   "id": "collect-corporation",
   "metadata": {},
   "outputs": [],
   "source": [
    "# Not much significant information stored in the games.csv file"
   ]
  },
  {
   "cell_type": "code",
   "execution_count": 12,
   "id": "bound-advocate",
   "metadata": {},
   "outputs": [],
   "source": [
    "# Look at the players.csv data file\n",
    "players = pd.read_csv('data/players.csv')"
   ]
  },
  {
   "cell_type": "code",
   "execution_count": 14,
   "id": "french-customer",
   "metadata": {},
   "outputs": [
    {
     "data": {
      "text/html": [
       "<div>\n",
       "<style scoped>\n",
       "    .dataframe tbody tr th:only-of-type {\n",
       "        vertical-align: middle;\n",
       "    }\n",
       "\n",
       "    .dataframe tbody tr th {\n",
       "        vertical-align: top;\n",
       "    }\n",
       "\n",
       "    .dataframe thead th {\n",
       "        text-align: right;\n",
       "    }\n",
       "</style>\n",
       "<table border=\"1\" class=\"dataframe\">\n",
       "  <thead>\n",
       "    <tr style=\"text-align: right;\">\n",
       "      <th></th>\n",
       "      <th>nflId</th>\n",
       "      <th>height</th>\n",
       "      <th>weight</th>\n",
       "      <th>birthDate</th>\n",
       "      <th>collegeName</th>\n",
       "      <th>Position</th>\n",
       "      <th>displayName</th>\n",
       "    </tr>\n",
       "  </thead>\n",
       "  <tbody>\n",
       "    <tr>\n",
       "      <th>0</th>\n",
       "      <td>42901</td>\n",
       "      <td>6-1</td>\n",
       "      <td>208</td>\n",
       "      <td>1992-07-25</td>\n",
       "      <td>James Madison</td>\n",
       "      <td>SS</td>\n",
       "      <td>Dean Marlowe</td>\n",
       "    </tr>\n",
       "    <tr>\n",
       "      <th>1</th>\n",
       "      <td>43501</td>\n",
       "      <td>6-0</td>\n",
       "      <td>220</td>\n",
       "      <td>1994-08-11</td>\n",
       "      <td>Central Michigan</td>\n",
       "      <td>FS</td>\n",
       "      <td>Kavon Frazier</td>\n",
       "    </tr>\n",
       "    <tr>\n",
       "      <th>2</th>\n",
       "      <td>43534</td>\n",
       "      <td>6-0</td>\n",
       "      <td>205</td>\n",
       "      <td>1993-06-02</td>\n",
       "      <td>Illinois</td>\n",
       "      <td>SS</td>\n",
       "      <td>Clayton Fejedelem</td>\n",
       "    </tr>\n",
       "    <tr>\n",
       "      <th>3</th>\n",
       "      <td>43535</td>\n",
       "      <td>6-1</td>\n",
       "      <td>235</td>\n",
       "      <td>1992-12-22</td>\n",
       "      <td>Temple</td>\n",
       "      <td>MLB</td>\n",
       "      <td>Tyler Matakevich</td>\n",
       "    </tr>\n",
       "    <tr>\n",
       "      <th>4</th>\n",
       "      <td>44174</td>\n",
       "      <td>6-1</td>\n",
       "      <td>236</td>\n",
       "      <td>1993-02-22</td>\n",
       "      <td>Texas Tech</td>\n",
       "      <td>ILB</td>\n",
       "      <td>Sam Eguavoen</td>\n",
       "    </tr>\n",
       "  </tbody>\n",
       "</table>\n",
       "</div>"
      ],
      "text/plain": [
       "   nflId height  weight   birthDate       collegeName Position  \\\n",
       "0  42901    6-1     208  1992-07-25     James Madison       SS   \n",
       "1  43501    6-0     220  1994-08-11  Central Michigan       FS   \n",
       "2  43534    6-0     205  1993-06-02          Illinois       SS   \n",
       "3  43535    6-1     235  1992-12-22            Temple      MLB   \n",
       "4  44174    6-1     236  1993-02-22        Texas Tech      ILB   \n",
       "\n",
       "         displayName  \n",
       "0       Dean Marlowe  \n",
       "1      Kavon Frazier  \n",
       "2  Clayton Fejedelem  \n",
       "3   Tyler Matakevich  \n",
       "4       Sam Eguavoen  "
      ]
     },
     "execution_count": 14,
     "metadata": {},
     "output_type": "execute_result"
    }
   ],
   "source": [
    "players.head()"
   ]
  },
  {
   "cell_type": "code",
   "execution_count": 15,
   "id": "detailed-charleston",
   "metadata": {},
   "outputs": [
    {
     "data": {
      "text/plain": [
       "Index(['nflId', 'height', 'weight', 'birthDate', 'collegeName', 'Position',\n",
       "       'displayName'],\n",
       "      dtype='object')"
      ]
     },
     "execution_count": 15,
     "metadata": {},
     "output_type": "execute_result"
    }
   ],
   "source": [
    "players.columns"
   ]
  },
  {
   "cell_type": "code",
   "execution_count": 16,
   "id": "clean-delay",
   "metadata": {},
   "outputs": [],
   "source": [
    "# Basic information about the player is included, more to have a unique player ID than anything else.\n",
    "# Weight and height could be useufl."
   ]
  },
  {
   "cell_type": "code",
   "execution_count": 17,
   "id": "romance-edgar",
   "metadata": {},
   "outputs": [],
   "source": [
    "# Look at the plays data\n",
    "plays = pd.read_csv('data/plays.csv')"
   ]
  },
  {
   "cell_type": "code",
   "execution_count": 18,
   "id": "desirable-graph",
   "metadata": {},
   "outputs": [
    {
     "data": {
      "text/html": [
       "<div>\n",
       "<style scoped>\n",
       "    .dataframe tbody tr th:only-of-type {\n",
       "        vertical-align: middle;\n",
       "    }\n",
       "\n",
       "    .dataframe tbody tr th {\n",
       "        vertical-align: top;\n",
       "    }\n",
       "\n",
       "    .dataframe thead th {\n",
       "        text-align: right;\n",
       "    }\n",
       "</style>\n",
       "<table border=\"1\" class=\"dataframe\">\n",
       "  <thead>\n",
       "    <tr style=\"text-align: right;\">\n",
       "      <th></th>\n",
       "      <th>gameId</th>\n",
       "      <th>playId</th>\n",
       "      <th>playDescription</th>\n",
       "      <th>quarter</th>\n",
       "      <th>down</th>\n",
       "      <th>yardsToGo</th>\n",
       "      <th>possessionTeam</th>\n",
       "      <th>specialTeamsPlayType</th>\n",
       "      <th>specialTeamsResult</th>\n",
       "      <th>kickerId</th>\n",
       "      <th>...</th>\n",
       "      <th>penaltyCodes</th>\n",
       "      <th>penaltyJerseyNumbers</th>\n",
       "      <th>penaltyYards</th>\n",
       "      <th>preSnapHomeScore</th>\n",
       "      <th>preSnapVisitorScore</th>\n",
       "      <th>passResult</th>\n",
       "      <th>kickLength</th>\n",
       "      <th>kickReturnYardage</th>\n",
       "      <th>playResult</th>\n",
       "      <th>absoluteYardlineNumber</th>\n",
       "    </tr>\n",
       "  </thead>\n",
       "  <tbody>\n",
       "    <tr>\n",
       "      <th>0</th>\n",
       "      <td>2018090600</td>\n",
       "      <td>37</td>\n",
       "      <td>J.Elliott kicks 65 yards from PHI 35 to end zo...</td>\n",
       "      <td>1</td>\n",
       "      <td>0</td>\n",
       "      <td>0</td>\n",
       "      <td>PHI</td>\n",
       "      <td>Kickoff</td>\n",
       "      <td>Touchback</td>\n",
       "      <td>44966.0</td>\n",
       "      <td>...</td>\n",
       "      <td>NaN</td>\n",
       "      <td>NaN</td>\n",
       "      <td>NaN</td>\n",
       "      <td>0</td>\n",
       "      <td>0</td>\n",
       "      <td>NaN</td>\n",
       "      <td>66.0</td>\n",
       "      <td>NaN</td>\n",
       "      <td>40</td>\n",
       "      <td>45</td>\n",
       "    </tr>\n",
       "    <tr>\n",
       "      <th>1</th>\n",
       "      <td>2018090600</td>\n",
       "      <td>366</td>\n",
       "      <td>(9:20) C.Johnston punts 56 yards to ATL 36, Ce...</td>\n",
       "      <td>1</td>\n",
       "      <td>4</td>\n",
       "      <td>4</td>\n",
       "      <td>PHI</td>\n",
       "      <td>Punt</td>\n",
       "      <td>Return</td>\n",
       "      <td>45603.0</td>\n",
       "      <td>...</td>\n",
       "      <td>UNSd</td>\n",
       "      <td>PHI 18</td>\n",
       "      <td>-15.0</td>\n",
       "      <td>0</td>\n",
       "      <td>0</td>\n",
       "      <td>NaN</td>\n",
       "      <td>56.0</td>\n",
       "      <td>5.0</td>\n",
       "      <td>36</td>\n",
       "      <td>18</td>\n",
       "    </tr>\n",
       "    <tr>\n",
       "      <th>2</th>\n",
       "      <td>2018090600</td>\n",
       "      <td>658</td>\n",
       "      <td>(5:03) M.Bryant 21 yard field goal is GOOD, Ce...</td>\n",
       "      <td>1</td>\n",
       "      <td>4</td>\n",
       "      <td>3</td>\n",
       "      <td>ATL</td>\n",
       "      <td>Field Goal</td>\n",
       "      <td>Kick Attempt Good</td>\n",
       "      <td>27091.0</td>\n",
       "      <td>...</td>\n",
       "      <td>NaN</td>\n",
       "      <td>NaN</td>\n",
       "      <td>NaN</td>\n",
       "      <td>0</td>\n",
       "      <td>0</td>\n",
       "      <td>NaN</td>\n",
       "      <td>21.0</td>\n",
       "      <td>NaN</td>\n",
       "      <td>0</td>\n",
       "      <td>13</td>\n",
       "    </tr>\n",
       "    <tr>\n",
       "      <th>3</th>\n",
       "      <td>2018090600</td>\n",
       "      <td>677</td>\n",
       "      <td>M.Bosher kicks 64 yards from ATL 35 to PHI 1. ...</td>\n",
       "      <td>1</td>\n",
       "      <td>0</td>\n",
       "      <td>0</td>\n",
       "      <td>ATL</td>\n",
       "      <td>Kickoff</td>\n",
       "      <td>Return</td>\n",
       "      <td>37267.0</td>\n",
       "      <td>...</td>\n",
       "      <td>NaN</td>\n",
       "      <td>NaN</td>\n",
       "      <td>NaN</td>\n",
       "      <td>0</td>\n",
       "      <td>3</td>\n",
       "      <td>NaN</td>\n",
       "      <td>64.0</td>\n",
       "      <td>30.0</td>\n",
       "      <td>34</td>\n",
       "      <td>75</td>\n",
       "    </tr>\n",
       "    <tr>\n",
       "      <th>4</th>\n",
       "      <td>2018090600</td>\n",
       "      <td>872</td>\n",
       "      <td>(:33) C.Johnston punts 65 yards to end zone, C...</td>\n",
       "      <td>1</td>\n",
       "      <td>4</td>\n",
       "      <td>18</td>\n",
       "      <td>PHI</td>\n",
       "      <td>Punt</td>\n",
       "      <td>Touchback</td>\n",
       "      <td>45603.0</td>\n",
       "      <td>...</td>\n",
       "      <td>NaN</td>\n",
       "      <td>NaN</td>\n",
       "      <td>NaN</td>\n",
       "      <td>0</td>\n",
       "      <td>3</td>\n",
       "      <td>NaN</td>\n",
       "      <td>65.0</td>\n",
       "      <td>NaN</td>\n",
       "      <td>45</td>\n",
       "      <td>45</td>\n",
       "    </tr>\n",
       "  </tbody>\n",
       "</table>\n",
       "<p>5 rows × 25 columns</p>\n",
       "</div>"
      ],
      "text/plain": [
       "       gameId  playId                                    playDescription  \\\n",
       "0  2018090600      37  J.Elliott kicks 65 yards from PHI 35 to end zo...   \n",
       "1  2018090600     366  (9:20) C.Johnston punts 56 yards to ATL 36, Ce...   \n",
       "2  2018090600     658  (5:03) M.Bryant 21 yard field goal is GOOD, Ce...   \n",
       "3  2018090600     677  M.Bosher kicks 64 yards from ATL 35 to PHI 1. ...   \n",
       "4  2018090600     872  (:33) C.Johnston punts 65 yards to end zone, C...   \n",
       "\n",
       "   quarter  down  yardsToGo possessionTeam specialTeamsPlayType  \\\n",
       "0        1     0          0            PHI              Kickoff   \n",
       "1        1     4          4            PHI                 Punt   \n",
       "2        1     4          3            ATL           Field Goal   \n",
       "3        1     0          0            ATL              Kickoff   \n",
       "4        1     4         18            PHI                 Punt   \n",
       "\n",
       "  specialTeamsResult  kickerId  ... penaltyCodes  penaltyJerseyNumbers  \\\n",
       "0          Touchback   44966.0  ...          NaN                   NaN   \n",
       "1             Return   45603.0  ...         UNSd                PHI 18   \n",
       "2  Kick Attempt Good   27091.0  ...          NaN                   NaN   \n",
       "3             Return   37267.0  ...          NaN                   NaN   \n",
       "4          Touchback   45603.0  ...          NaN                   NaN   \n",
       "\n",
       "  penaltyYards  preSnapHomeScore preSnapVisitorScore passResult kickLength  \\\n",
       "0          NaN                 0                   0        NaN       66.0   \n",
       "1        -15.0                 0                   0        NaN       56.0   \n",
       "2          NaN                 0                   0        NaN       21.0   \n",
       "3          NaN                 0                   3        NaN       64.0   \n",
       "4          NaN                 0                   3        NaN       65.0   \n",
       "\n",
       "   kickReturnYardage  playResult  absoluteYardlineNumber  \n",
       "0                NaN          40                      45  \n",
       "1                5.0          36                      18  \n",
       "2                NaN           0                      13  \n",
       "3               30.0          34                      75  \n",
       "4                NaN          45                      45  \n",
       "\n",
       "[5 rows x 25 columns]"
      ]
     },
     "execution_count": 18,
     "metadata": {},
     "output_type": "execute_result"
    }
   ],
   "source": [
    "plays.head()"
   ]
  },
  {
   "cell_type": "code",
   "execution_count": 19,
   "id": "challenging-maine",
   "metadata": {},
   "outputs": [
    {
     "data": {
      "text/plain": [
       "Index(['gameId', 'playId', 'playDescription', 'quarter', 'down', 'yardsToGo',\n",
       "       'possessionTeam', 'specialTeamsPlayType', 'specialTeamsResult',\n",
       "       'kickerId', 'returnerId', 'kickBlockerId', 'yardlineSide',\n",
       "       'yardlineNumber', 'gameClock', 'penaltyCodes', 'penaltyJerseyNumbers',\n",
       "       'penaltyYards', 'preSnapHomeScore', 'preSnapVisitorScore', 'passResult',\n",
       "       'kickLength', 'kickReturnYardage', 'playResult',\n",
       "       'absoluteYardlineNumber'],\n",
       "      dtype='object')"
      ]
     },
     "execution_count": 19,
     "metadata": {},
     "output_type": "execute_result"
    }
   ],
   "source": [
    "plays.columns"
   ]
  },
  {
   "cell_type": "code",
   "execution_count": 85,
   "id": "separate-parliament",
   "metadata": {},
   "outputs": [
    {
     "data": {
      "image/png": "[encoded data removed]",
      "text/plain": [
       "<Figure size 432x288 with 1 Axes>"
      ]
     },
     "metadata": {
      "needs_background": "light"
     },
     "output_type": "display_data"
    }
   ],
   "source": [
    "# All of the special teams plays available\n",
    "playTypes = plays.specialTeamsPlayType.unique()\n",
    "playTypes\n",
    "axes = plays.specialTeamsPlayType.value_counts().plot.bar()\n",
    "axes.set_title('Special Team Play Type')\n",
    "plt.show()"
   ]
  },
  {
   "cell_type": "code",
   "execution_count": 70,
   "id": "foreign-buffer",
   "metadata": {},
   "outputs": [
    {
     "data": {
      "image/png": "[encoded data removed]",
      "text/plain": [
       "<Figure size 864x720 with 4 Axes>"
      ]
     },
     "metadata": {
      "needs_background": "light"
     },
     "output_type": "display_data"
    }
   ],
   "source": [
    "# All of the potential outcomes from the each play type and plot\n",
    "fig, axes = plt.subplots(nrows=2, ncols=2)\n",
    "outcomes = []\n",
    "for playType in playTypes:\n",
    "    playOutcomes = plays.loc[plays.specialTeamsPlayType==playType, ['specialTeamsResult']].specialTeamsResult.value_counts()\n",
    "    outcomes.append(playOutcomes)\n",
    "    \n",
    "outcomes[0].plot.bar(ax=axes[0, 0])\n",
    "outcomes[1].plot.bar(ax=axes[0, 1])\n",
    "outcomes[2].plot.bar(ax=axes[1, 0])\n",
    "outcomes[3].plot.bar(ax=axes[1, 1])\n",
    "\n",
    "axes[0, 0].set_title(\"Play Type: \" + playTypes[0])\n",
    "axes[0, 1].set_title(\"Play Type: \" + playTypes[1])\n",
    "axes[1, 0].set_title(\"Play Type: \" + playTypes[2])\n",
    "axes[1, 1].set_title(\"Play Type: \" + playTypes[3])\n",
    "fig.set_size_inches(12.0, 10.0)\n",
    "fig.tight_layout()\n",
    "plt.show()"
   ]
  },
  {
   "cell_type": "code",
   "execution_count": 72,
   "id": "musical-republican",
   "metadata": {},
   "outputs": [],
   "source": [
    "# Look at scouting data\n",
    "scouting = pd.read_csv('data/PFFScoutingData.csv')"
   ]
  },
  {
   "cell_type": "code",
   "execution_count": 73,
   "id": "exceptional-arbitration",
   "metadata": {},
   "outputs": [
    {
     "data": {
      "text/html": [
       "<div>\n",
       "<style scoped>\n",
       "    .dataframe tbody tr th:only-of-type {\n",
       "        vertical-align: middle;\n",
       "    }\n",
       "\n",
       "    .dataframe tbody tr th {\n",
       "        vertical-align: top;\n",
       "    }\n",
       "\n",
       "    .dataframe thead th {\n",
       "        text-align: right;\n",
       "    }\n",
       "</style>\n",
       "<table border=\"1\" class=\"dataframe\">\n",
       "  <thead>\n",
       "    <tr style=\"text-align: right;\">\n",
       "      <th></th>\n",
       "      <th>gameId</th>\n",
       "      <th>playId</th>\n",
       "      <th>snapDetail</th>\n",
       "      <th>snapTime</th>\n",
       "      <th>operationTime</th>\n",
       "      <th>hangTime</th>\n",
       "      <th>kickType</th>\n",
       "      <th>kickDirectionIntended</th>\n",
       "      <th>kickDirectionActual</th>\n",
       "      <th>returnDirectionIntended</th>\n",
       "      <th>returnDirectionActual</th>\n",
       "      <th>missedTackler</th>\n",
       "      <th>assistTackler</th>\n",
       "      <th>tackler</th>\n",
       "      <th>kickoffReturnFormation</th>\n",
       "      <th>gunners</th>\n",
       "      <th>puntRushers</th>\n",
       "      <th>specialTeamsSafeties</th>\n",
       "      <th>vises</th>\n",
       "      <th>kickContactType</th>\n",
       "    </tr>\n",
       "  </thead>\n",
       "  <tbody>\n",
       "    <tr>\n",
       "      <th>0</th>\n",
       "      <td>2018090600</td>\n",
       "      <td>37</td>\n",
       "      <td>NaN</td>\n",
       "      <td>NaN</td>\n",
       "      <td>NaN</td>\n",
       "      <td>3.85</td>\n",
       "      <td>D</td>\n",
       "      <td>R</td>\n",
       "      <td>R</td>\n",
       "      <td>NaN</td>\n",
       "      <td>NaN</td>\n",
       "      <td>NaN</td>\n",
       "      <td>NaN</td>\n",
       "      <td>NaN</td>\n",
       "      <td>8-0-2</td>\n",
       "      <td>NaN</td>\n",
       "      <td>NaN</td>\n",
       "      <td>PHI 23; PHI 27</td>\n",
       "      <td>NaN</td>\n",
       "      <td>NaN</td>\n",
       "    </tr>\n",
       "    <tr>\n",
       "      <th>1</th>\n",
       "      <td>2018090600</td>\n",
       "      <td>366</td>\n",
       "      <td>OK</td>\n",
       "      <td>0.84</td>\n",
       "      <td>2.12</td>\n",
       "      <td>4.46</td>\n",
       "      <td>N</td>\n",
       "      <td>C</td>\n",
       "      <td>C</td>\n",
       "      <td>C</td>\n",
       "      <td>R</td>\n",
       "      <td>PHI 57</td>\n",
       "      <td>NaN</td>\n",
       "      <td>PHI 54</td>\n",
       "      <td>NaN</td>\n",
       "      <td>PHI 18; PHI 29</td>\n",
       "      <td>NaN</td>\n",
       "      <td>NaN</td>\n",
       "      <td>ATL 83; ATL 27; ATL 34; ATL 21</td>\n",
       "      <td>CC</td>\n",
       "    </tr>\n",
       "    <tr>\n",
       "      <th>2</th>\n",
       "      <td>2018090600</td>\n",
       "      <td>658</td>\n",
       "      <td>NaN</td>\n",
       "      <td>NaN</td>\n",
       "      <td>NaN</td>\n",
       "      <td>NaN</td>\n",
       "      <td>NaN</td>\n",
       "      <td>NaN</td>\n",
       "      <td>NaN</td>\n",
       "      <td>NaN</td>\n",
       "      <td>NaN</td>\n",
       "      <td>NaN</td>\n",
       "      <td>NaN</td>\n",
       "      <td>NaN</td>\n",
       "      <td>NaN</td>\n",
       "      <td>NaN</td>\n",
       "      <td>NaN</td>\n",
       "      <td>PHI 58</td>\n",
       "      <td>NaN</td>\n",
       "      <td>NaN</td>\n",
       "    </tr>\n",
       "    <tr>\n",
       "      <th>3</th>\n",
       "      <td>2018090600</td>\n",
       "      <td>677</td>\n",
       "      <td>NaN</td>\n",
       "      <td>NaN</td>\n",
       "      <td>NaN</td>\n",
       "      <td>4.06</td>\n",
       "      <td>D</td>\n",
       "      <td>R</td>\n",
       "      <td>R</td>\n",
       "      <td>C</td>\n",
       "      <td>C</td>\n",
       "      <td>ATL 83</td>\n",
       "      <td>ATL 22</td>\n",
       "      <td>ATL 27</td>\n",
       "      <td>8-0-2</td>\n",
       "      <td>NaN</td>\n",
       "      <td>NaN</td>\n",
       "      <td>ATL 17; ATL 22</td>\n",
       "      <td>NaN</td>\n",
       "      <td>NaN</td>\n",
       "    </tr>\n",
       "    <tr>\n",
       "      <th>4</th>\n",
       "      <td>2018090600</td>\n",
       "      <td>872</td>\n",
       "      <td>OK</td>\n",
       "      <td>0.84</td>\n",
       "      <td>2.00</td>\n",
       "      <td>4.35</td>\n",
       "      <td>N</td>\n",
       "      <td>C</td>\n",
       "      <td>L</td>\n",
       "      <td>NaN</td>\n",
       "      <td>NaN</td>\n",
       "      <td>NaN</td>\n",
       "      <td>NaN</td>\n",
       "      <td>NaN</td>\n",
       "      <td>NaN</td>\n",
       "      <td>PHI 18; PHI 29</td>\n",
       "      <td>ATL 85</td>\n",
       "      <td>ATL 37</td>\n",
       "      <td>ATL 83; ATL 34; ATL 21</td>\n",
       "      <td>BF</td>\n",
       "    </tr>\n",
       "  </tbody>\n",
       "</table>\n",
       "</div>"
      ],
      "text/plain": [
       "       gameId  playId snapDetail  snapTime  operationTime  hangTime kickType  \\\n",
       "0  2018090600      37        NaN       NaN            NaN      3.85        D   \n",
       "1  2018090600     366         OK      0.84           2.12      4.46        N   \n",
       "2  2018090600     658        NaN       NaN            NaN       NaN      NaN   \n",
       "3  2018090600     677        NaN       NaN            NaN      4.06        D   \n",
       "4  2018090600     872         OK      0.84           2.00      4.35        N   \n",
       "\n",
       "  kickDirectionIntended kickDirectionActual returnDirectionIntended  \\\n",
       "0                     R                   R                     NaN   \n",
       "1                     C                   C                       C   \n",
       "2                   NaN                 NaN                     NaN   \n",
       "3                     R                   R                       C   \n",
       "4                     C                   L                     NaN   \n",
       "\n",
       "  returnDirectionActual missedTackler assistTackler tackler  \\\n",
       "0                   NaN           NaN           NaN     NaN   \n",
       "1                     R        PHI 57           NaN  PHI 54   \n",
       "2                   NaN           NaN           NaN     NaN   \n",
       "3                     C        ATL 83        ATL 22  ATL 27   \n",
       "4                   NaN           NaN           NaN     NaN   \n",
       "\n",
       "  kickoffReturnFormation         gunners puntRushers specialTeamsSafeties  \\\n",
       "0                  8-0-2             NaN         NaN       PHI 23; PHI 27   \n",
       "1                    NaN  PHI 18; PHI 29         NaN                  NaN   \n",
       "2                    NaN             NaN         NaN               PHI 58   \n",
       "3                  8-0-2             NaN         NaN       ATL 17; ATL 22   \n",
       "4                    NaN  PHI 18; PHI 29      ATL 85               ATL 37   \n",
       "\n",
       "                            vises kickContactType  \n",
       "0                             NaN             NaN  \n",
       "1  ATL 83; ATL 27; ATL 34; ATL 21              CC  \n",
       "2                             NaN             NaN  \n",
       "3                             NaN             NaN  \n",
       "4          ATL 83; ATL 34; ATL 21              BF  "
      ]
     },
     "execution_count": 73,
     "metadata": {},
     "output_type": "execute_result"
    }
   ],
   "source": [
    "scouting.head()"
   ]
  },
  {
   "cell_type": "code",
   "execution_count": 75,
   "id": "simplified-clearing",
   "metadata": {},
   "outputs": [
    {
     "data": {
      "text/plain": [
       "Index(['gameId', 'playId', 'snapDetail', 'snapTime', 'operationTime',\n",
       "       'hangTime', 'kickType', 'kickDirectionIntended', 'kickDirectionActual',\n",
       "       'returnDirectionIntended', 'returnDirectionActual', 'missedTackler',\n",
       "       'assistTackler', 'tackler', 'kickoffReturnFormation', 'gunners',\n",
       "       'puntRushers', 'specialTeamsSafeties', 'vises', 'kickContactType'],\n",
       "      dtype='object')"
      ]
     },
     "execution_count": 75,
     "metadata": {},
     "output_type": "execute_result"
    }
   ],
   "source": [
    "scouting.columns"
   ]
  },
  {
   "cell_type": "code",
   "execution_count": 87,
   "id": "architectural-teens",
   "metadata": {},
   "outputs": [
    {
     "data": {
      "image/png": "[encoded data removed]",
      "text/plain": [
       "<Figure size 432x288 with 1 Axes>"
      ]
     },
     "metadata": {
      "needs_background": "light"
     },
     "output_type": "display_data"
    }
   ],
   "source": [
    "axes = scouting.snapDetail.dropna().value_counts().plot.bar()\n",
    "axes.set_title('Snap Detail on Punts')\n",
    "plt.show()"
   ]
  },
  {
   "cell_type": "code",
   "execution_count": 107,
   "id": "fantastic-attribute",
   "metadata": {},
   "outputs": [
    {
     "data": {
      "image/png": "[encoded data removed]",
      "text/plain": [
       "<Figure size 432x288 with 1 Axes>"
      ]
     },
     "metadata": {
      "needs_background": "light"
     },
     "output_type": "display_data"
    }
   ],
   "source": [
    "axes = scouting.snapTime.dropna().plot.hist(bins=50)\n",
    "axes.set_title('Snap Duration (s)')\n",
    "axes.set_xlabel('Time (s)')\n",
    "plt.show()"
   ]
  },
  {
   "cell_type": "code",
   "execution_count": 106,
   "id": "casual-mistake",
   "metadata": {},
   "outputs": [
    {
     "data": {
      "image/png": "[encoded data removed]",
      "text/plain": [
       "<Figure size 432x288 with 1 Axes>"
      ]
     },
     "metadata": {
      "needs_background": "light"
     },
     "output_type": "display_data"
    }
   ],
   "source": [
    "axes = scouting.operationTime.dropna().plot.hist(bins=50)\n",
    "axes.set_title('Time from Snap to Kick on Punt Plays (s)')\n",
    "axes.set_xlabel('Time (s)')\n",
    "plt.show()"
   ]
  },
  {
   "cell_type": "code",
   "execution_count": 113,
   "id": "adult-movie",
   "metadata": {},
   "outputs": [
    {
     "data": {
      "image/png": "[encoded data removed]",
      "text/plain": [
       "<Figure size 432x288 with 1 Axes>"
      ]
     },
     "metadata": {
      "needs_background": "light"
     },
     "output_type": "display_data"
    }
   ],
   "source": [
    "### Could look at how the hang time correlates with specific punters/teams\n",
    "axes = scouting.hangTime.dropna().plot.hist(bins=50)\n",
    "axes.set_title('Hang Time for Punts (s)')\n",
    "axes.set_xlabel('Time (s)')\n",
    "plt.show()"
   ]
  },
  {
   "cell_type": "code",
   "execution_count": 116,
   "id": "numeric-enclosure",
   "metadata": {},
   "outputs": [
    {
     "data": {
      "image/png": "[encoded data removed]",
      "text/plain": [
       "<Figure size 432x288 with 1 Axes>"
      ]
     },
     "metadata": {
      "needs_background": "light"
     },
     "output_type": "display_data"
    }
   ],
   "source": [
    "axes = scouting.kickType.dropna().value_counts().drop(['R', 'N', 'A']).plot.bar()\n",
    "axes.set_title('Kickoff Types')\n",
    "plt.show()"
   ]
  },
  {
   "cell_type": "code",
   "execution_count": 118,
   "id": "prime-religious",
   "metadata": {},
   "outputs": [
    {
     "data": {
      "image/png": "[encoded data removed]",
      "text/plain": [
       "<Figure size 432x288 with 1 Axes>"
      ]
     },
     "metadata": {
      "needs_background": "light"
     },
     "output_type": "display_data"
    }
   ],
   "source": [
    "axes = scouting.kickType.dropna().value_counts().drop(['D', 'F', 'P', 'O', 'Q', 'K', 'S', 'B']).plot.bar()\n",
    "axes.set_title('Punt Types')\n",
    "plt.show()"
   ]
  },
  {
   "cell_type": "code",
   "execution_count": null,
   "id": "hollywood-alert",
   "metadata": {},
   "outputs": [],
   "source": []
  }
 ],
 "metadata": {
  "kernelspec": {
   "display_name": "Python 3",
   "language": "python",
   "name": "python3"
  },
  "language_info": {
   "codemirror_mode": {
    "name": "ipython",
    "version": 3
   },
   "file_extension": ".py",
   "mimetype": "text/x-python",
   "name": "python",
   "nbconvert_exporter": "python",
   "pygments_lexer": "ipython3",
   "version": "3.8.6"
  }
 },
 "nbformat": 4,
 "nbformat_minor": 5
}
