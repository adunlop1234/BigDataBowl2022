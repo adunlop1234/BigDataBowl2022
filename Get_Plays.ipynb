{
 "cells": [
  {
   "cell_type": "code",
   "execution_count": 2,
   "source": [
    "# Import modules\n",
    "import os, sys\n",
    "import pandas as pd\n",
    "import numpy as np\n",
    "import matplotlib.pyplot as plt"
   ],
   "outputs": [],
   "metadata": {}
  },
  {
   "cell_type": "code",
   "execution_count": 3,
   "source": [
    "# Read in the plays and get a unique ID\n",
    "plays = pd.read_csv(os.path.join('data', 'plays.csv'))\n",
    "plays[\"uniqueId\"] = (plays[\"gameId\"].astype(str) + \"-\" + plays[\"playId\"].astype(str)).astype(str)\n",
    "\n",
    "kickoffs = plays.loc[plays.specialTeamsPlayType == \"Kickoff\", :]\n",
    "punts = plays.loc[plays.specialTeamsPlayType == \"Punt\", :]"
   ],
   "outputs": [],
   "metadata": {}
  },
  {
   "cell_type": "code",
   "execution_count": 4,
   "source": [
    "punts.specialTeamsResult.value_counts()"
   ],
   "outputs": [
    {
     "output_type": "execute_result",
     "data": {
      "text/plain": [
       "Return                      2286\n",
       "Fair Catch                  1640\n",
       "Downed                       829\n",
       "Out of Bounds                586\n",
       "Touchback                    383\n",
       "Muffed                       154\n",
       "Non-Special Teams Result      74\n",
       "Blocked Punt                  39\n",
       "Name: specialTeamsResult, dtype: int64"
      ]
     },
     "metadata": {},
     "execution_count": 4
    }
   ],
   "metadata": {}
  },
  {
   "cell_type": "code",
   "execution_count": 5,
   "source": [
    "# Drop the plays that aren't applicable to returns - Blocked Punt, Non-Special Teams Result\n",
    "# Do we want to keep muffed, touchback and out of bounds?\n",
    "punt_results_to_drop = ['Blocked Punt', 'Non-Special Teams Result', 'Muffed', 'Out of Bounds']\n",
    "punts = punts[punts.specialTeamsResult.str.contains(\"|\".join(punt_results_to_drop))==False]"
   ],
   "outputs": [],
   "metadata": {}
  },
  {
   "cell_type": "code",
   "execution_count": 6,
   "source": [
    "# Write list of all of the punt plays to be used\n",
    "punts.uniqueId.to_csv('eligible_punt_plays.csv', index=False, header=False)"
   ],
   "outputs": [],
   "metadata": {}
  },
  {
   "cell_type": "code",
   "execution_count": 7,
   "source": [
    "kickoffs.specialTeamsResult.value_counts()"
   ],
   "outputs": [
    {
     "output_type": "execute_result",
     "data": {
      "text/plain": [
       "Touchback                4773\n",
       "Return                   2921\n",
       "Out of Bounds              64\n",
       "Muffed                     60\n",
       "Kickoff Team Recovery      16\n",
       "Fair Catch                  5\n",
       "Downed                      4\n",
       "Name: specialTeamsResult, dtype: int64"
      ]
     },
     "metadata": {},
     "execution_count": 7
    }
   ],
   "metadata": {}
  },
  {
   "cell_type": "code",
   "execution_count": 8,
   "source": [
    "# Drop the plays that aren't applicable to kickoff returns too small sample size - Downed, Fair Catch, Kickoff Team Recovery, Muffed, Out of Bounds\n",
    "kickoff_results_to_drop = ['Out of Bounds', 'Muffed', 'Kickoff Team Recovery', 'Fair Catch', 'Downed']\n",
    "kickoffs = kickoffs[kickoffs.specialTeamsResult.str.contains(\"|\".join(kickoff_results_to_drop))==False]"
   ],
   "outputs": [],
   "metadata": {}
  },
  {
   "cell_type": "code",
   "execution_count": 9,
   "source": [
    "# Write list of all of the kickoff plays to be used\n",
    "kickoffs.uniqueId.to_csv('eligible_kickoff_plays.csv', index=False, header=False)"
   ],
   "outputs": [],
   "metadata": {}
  },
  {
   "cell_type": "code",
   "execution_count": 10,
   "source": [
    "tracking2018 = pd.read_csv(os.path.join('data', 'tracking2018.csv'))"
   ],
   "outputs": [],
   "metadata": {}
  },
  {
   "cell_type": "code",
   "execution_count": 14,
   "source": [
    "tracking2018.columns"
   ],
   "outputs": [
    {
     "output_type": "execute_result",
     "data": {
      "text/plain": [
       "Index(['time', 'x', 'y', 's', 'a', 'dis', 'o', 'dir', 'event', 'nflId',\n",
       "       'displayName', 'jerseyNumber', 'position', 'team', 'frameId', 'gameId',\n",
       "       'playId', 'playDirection'],\n",
       "      dtype='object')"
      ]
     },
     "metadata": {},
     "execution_count": 14
    }
   ],
   "metadata": {}
  },
  {
   "cell_type": "code",
   "execution_count": null,
   "source": [],
   "outputs": [],
   "metadata": {}
  }
 ],
 "metadata": {
  "orig_nbformat": 4,
  "language_info": {
   "name": "python",
   "version": "3.8.6",
   "mimetype": "text/x-python",
   "codemirror_mode": {
    "name": "ipython",
    "version": 3
   },
   "pygments_lexer": "ipython3",
   "nbconvert_exporter": "python",
   "file_extension": ".py"
  },
  "kernelspec": {
   "name": "python3",
   "display_name": "Python 3.8.6 64-bit"
  },
  "interpreter": {
   "hash": "4cd7ab41f5fca4b9b44701077e38c5ffd31fe66a6cab21e0214b68d958d0e462"
  }
 },
 "nbformat": 4,
 "nbformat_minor": 2
}