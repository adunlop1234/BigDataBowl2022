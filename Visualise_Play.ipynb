{
 "cells": [
  {
   "cell_type": "code",
   "execution_count": 2,
   "id": "outstanding-giving",
   "metadata": {},
   "outputs": [],
   "source": [
    "import pandas as pd\n",
    "import numpy\n",
    "import matplotlib.pyplot as plt"
   ]
  },
  {
   "cell_type": "code",
   "execution_count": 3,
   "id": "ethical-blake",
   "metadata": {},
   "outputs": [],
   "source": [
    "tracking2020 = pd.read_csv('data/tracking2020.csv')"
   ]
  },
  {
   "cell_type": "code",
   "execution_count": 4,
   "id": "selected-parts",
   "metadata": {},
   "outputs": [
    {
     "data": {
      "text/html": [
       "<div>\n",
       "<style scoped>\n",
       "    .dataframe tbody tr th:only-of-type {\n",
       "        vertical-align: middle;\n",
       "    }\n",
       "\n",
       "    .dataframe tbody tr th {\n",
       "        vertical-align: top;\n",
       "    }\n",
       "\n",
       "    .dataframe thead th {\n",
       "        text-align: right;\n",
       "    }\n",
       "</style>\n",
       "<table border=\"1\" class=\"dataframe\">\n",
       "  <thead>\n",
       "    <tr style=\"text-align: right;\">\n",
       "      <th></th>\n",
       "      <th>time</th>\n",
       "      <th>x</th>\n",
       "      <th>y</th>\n",
       "      <th>s</th>\n",
       "      <th>a</th>\n",
       "      <th>dis</th>\n",
       "      <th>o</th>\n",
       "      <th>dir</th>\n",
       "      <th>event</th>\n",
       "      <th>nflId</th>\n",
       "      <th>displayName</th>\n",
       "      <th>jerseyNumber</th>\n",
       "      <th>position</th>\n",
       "      <th>team</th>\n",
       "      <th>frameId</th>\n",
       "      <th>gameId</th>\n",
       "      <th>playId</th>\n",
       "      <th>playDirection</th>\n",
       "    </tr>\n",
       "  </thead>\n",
       "  <tbody>\n",
       "    <tr>\n",
       "      <th>0</th>\n",
       "      <td>2021-01-03T18:03:02.200</td>\n",
       "      <td>61.21</td>\n",
       "      <td>46.77</td>\n",
       "      <td>0.08</td>\n",
       "      <td>0.13</td>\n",
       "      <td>0.01</td>\n",
       "      <td>186.21</td>\n",
       "      <td>144.73</td>\n",
       "      <td>None</td>\n",
       "      <td>42901.0</td>\n",
       "      <td>Dean Marlowe</td>\n",
       "      <td>31.0</td>\n",
       "      <td>SS</td>\n",
       "      <td>home</td>\n",
       "      <td>1</td>\n",
       "      <td>2021010300</td>\n",
       "      <td>40</td>\n",
       "      <td>left</td>\n",
       "    </tr>\n",
       "    <tr>\n",
       "      <th>1</th>\n",
       "      <td>2021-01-03T18:03:02.300</td>\n",
       "      <td>61.22</td>\n",
       "      <td>46.77</td>\n",
       "      <td>0.11</td>\n",
       "      <td>0.19</td>\n",
       "      <td>0.01</td>\n",
       "      <td>184.87</td>\n",
       "      <td>126.09</td>\n",
       "      <td>None</td>\n",
       "      <td>42901.0</td>\n",
       "      <td>Dean Marlowe</td>\n",
       "      <td>31.0</td>\n",
       "      <td>SS</td>\n",
       "      <td>home</td>\n",
       "      <td>2</td>\n",
       "      <td>2021010300</td>\n",
       "      <td>40</td>\n",
       "      <td>left</td>\n",
       "    </tr>\n",
       "    <tr>\n",
       "      <th>2</th>\n",
       "      <td>2021-01-03T18:03:02.400</td>\n",
       "      <td>61.23</td>\n",
       "      <td>46.76</td>\n",
       "      <td>0.10</td>\n",
       "      <td>0.18</td>\n",
       "      <td>0.01</td>\n",
       "      <td>183.38</td>\n",
       "      <td>108.95</td>\n",
       "      <td>None</td>\n",
       "      <td>42901.0</td>\n",
       "      <td>Dean Marlowe</td>\n",
       "      <td>31.0</td>\n",
       "      <td>SS</td>\n",
       "      <td>home</td>\n",
       "      <td>3</td>\n",
       "      <td>2021010300</td>\n",
       "      <td>40</td>\n",
       "      <td>left</td>\n",
       "    </tr>\n",
       "    <tr>\n",
       "      <th>3</th>\n",
       "      <td>2021-01-03T18:03:02.500</td>\n",
       "      <td>61.24</td>\n",
       "      <td>46.76</td>\n",
       "      <td>0.11</td>\n",
       "      <td>0.22</td>\n",
       "      <td>0.01</td>\n",
       "      <td>180.24</td>\n",
       "      <td>91.57</td>\n",
       "      <td>None</td>\n",
       "      <td>42901.0</td>\n",
       "      <td>Dean Marlowe</td>\n",
       "      <td>31.0</td>\n",
       "      <td>SS</td>\n",
       "      <td>home</td>\n",
       "      <td>4</td>\n",
       "      <td>2021010300</td>\n",
       "      <td>40</td>\n",
       "      <td>left</td>\n",
       "    </tr>\n",
       "    <tr>\n",
       "      <th>4</th>\n",
       "      <td>2021-01-03T18:03:02.600</td>\n",
       "      <td>61.25</td>\n",
       "      <td>46.76</td>\n",
       "      <td>0.05</td>\n",
       "      <td>0.20</td>\n",
       "      <td>0.01</td>\n",
       "      <td>172.44</td>\n",
       "      <td>119.91</td>\n",
       "      <td>None</td>\n",
       "      <td>42901.0</td>\n",
       "      <td>Dean Marlowe</td>\n",
       "      <td>31.0</td>\n",
       "      <td>SS</td>\n",
       "      <td>home</td>\n",
       "      <td>5</td>\n",
       "      <td>2021010300</td>\n",
       "      <td>40</td>\n",
       "      <td>left</td>\n",
       "    </tr>\n",
       "  </tbody>\n",
       "</table>\n",
       "</div>"
      ],
      "text/plain": [
       "                      time      x      y     s     a   dis       o     dir  \\\n",
       "0  2021-01-03T18:03:02.200  61.21  46.77  0.08  0.13  0.01  186.21  144.73   \n",
       "1  2021-01-03T18:03:02.300  61.22  46.77  0.11  0.19  0.01  184.87  126.09   \n",
       "2  2021-01-03T18:03:02.400  61.23  46.76  0.10  0.18  0.01  183.38  108.95   \n",
       "3  2021-01-03T18:03:02.500  61.24  46.76  0.11  0.22  0.01  180.24   91.57   \n",
       "4  2021-01-03T18:03:02.600  61.25  46.76  0.05  0.20  0.01  172.44  119.91   \n",
       "\n",
       "  event    nflId   displayName  jerseyNumber position  team  frameId  \\\n",
       "0  None  42901.0  Dean Marlowe          31.0       SS  home        1   \n",
       "1  None  42901.0  Dean Marlowe          31.0       SS  home        2   \n",
       "2  None  42901.0  Dean Marlowe          31.0       SS  home        3   \n",
       "3  None  42901.0  Dean Marlowe          31.0       SS  home        4   \n",
       "4  None  42901.0  Dean Marlowe          31.0       SS  home        5   \n",
       "\n",
       "       gameId  playId playDirection  \n",
       "0  2021010300      40          left  \n",
       "1  2021010300      40          left  \n",
       "2  2021010300      40          left  \n",
       "3  2021010300      40          left  \n",
       "4  2021010300      40          left  "
      ]
     },
     "execution_count": 4,
     "metadata": {},
     "output_type": "execute_result"
    }
   ],
   "source": [
    "tracking2020.head()"
   ]
  },
  {
   "cell_type": "code",
   "execution_count": 5,
   "id": "thorough-thousand",
   "metadata": {},
   "outputs": [
    {
     "data": {
      "text/plain": [
       "Index(['time', 'x', 'y', 's', 'a', 'dis', 'o', 'dir', 'event', 'nflId',\n",
       "       'displayName', 'jerseyNumber', 'position', 'team', 'frameId', 'gameId',\n",
       "       'playId', 'playDirection'],\n",
       "      dtype='object')"
      ]
     },
     "execution_count": 5,
     "metadata": {},
     "output_type": "execute_result"
    }
   ],
   "source": [
    "tracking2020.columns"
   ]
  },
  {
   "cell_type": "code",
   "execution_count": 6,
   "id": "close-ceremony",
   "metadata": {},
   "outputs": [],
   "source": [
    "playId = 40\n",
    "gameId = 2021010300"
   ]
  },
  {
   "cell_type": "code",
   "execution_count": 11,
   "id": "boxed-syndicate",
   "metadata": {},
   "outputs": [
    {
     "data": {
      "text/plain": [
       "array([  40,  376,  395,  548,  675,  782,  867, 1080, 1096, 1232, 1470,\n",
       "       1486, 1586, 1612, 1628, 1947, 1966, 2085, 2101, 2217, 2276, 2555,\n",
       "       2571, 2755, 2800, 2816, 3532, 3548, 3660, 3676, 3930, 4075, 4252,\n",
       "       4268, 4478, 4494])"
      ]
     },
     "execution_count": 11,
     "metadata": {},
     "output_type": "execute_result"
    }
   ],
   "source": [
    "gameData = tracking2020.loc[tracking2020.loc[:, 'gameId']==gameId, :]\n",
    "gameData.playId.unique()"
   ]
  },
  {
   "cell_type": "code",
   "execution_count": 21,
   "id": "incorrect-birmingham",
   "metadata": {},
   "outputs": [],
   "source": [
    "playData = gameData[(gameData.playId == playId) & (gameData.gameId == gameId)].sort_values(\"frameId\", ascending=True)"
   ]
  },
  {
   "cell_type": "code",
   "execution_count": 25,
   "id": "dramatic-investigation",
   "metadata": {},
   "outputs": [
    {
     "data": {
      "text/plain": [
       "True"
      ]
     },
     "execution_count": 25,
     "metadata": {},
     "output_type": "execute_result"
    }
   ],
   "source": [
    "# Create an initial canvas\n",
    "if (playData.playDirection == 'left').any():\n",
    "    playData.x = 120 - playData.x\n",
    "    \n"
   ]
  },
  {
   "cell_type": "code",
   "execution_count": null,
   "id": "offshore-cambodia",
   "metadata": {},
   "outputs": [],
   "source": [
    "frames = playData.loc[:, 'frameId'].unique()\n",
    "for frame in frames:\n",
    "    \n",
    "    # Get the data for current frame\n",
    "    frameData = playData.loc[playData.loc[:, 'frameId']==frame, :]\n",
    "    \n",
    "    #\n"
   ]
  }
 ],
 "metadata": {
  "kernelspec": {
   "display_name": "Python 3",
   "language": "python",
   "name": "python3"
  },
  "language_info": {
   "codemirror_mode": {
    "name": "ipython",
    "version": 3
   },
   "file_extension": ".py",
   "mimetype": "text/x-python",
   "name": "python",
   "nbconvert_exporter": "python",
   "pygments_lexer": "ipython3",
   "version": "3.8.6"
  }
 },
 "nbformat": 4,
 "nbformat_minor": 5
}
